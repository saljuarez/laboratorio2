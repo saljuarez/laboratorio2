{
 "cells": [
  {
   "cell_type": "markdown",
   "id": "aed47323-5abf-4105-878e-f397a6217d13",
   "metadata": {},
   "source": [
    "# Laboratorio: Análisis de Datos con Python \n"
   ]
  },
  {
   "cell_type": "markdown",
   "id": "7d51730e-df7c-4a62-a9b7-a2e54ccfd248",
   "metadata": {},
   "source": [
    "### 1) ¿Cuál es el tamaño en bytes de un array de 1000  elementos de tipo booleano? \n"
   ]
  },
  {
   "cell_type": "code",
   "execution_count": 1,
   "id": "07177961-be5c-4431-a557-fbded0305adc",
   "metadata": {},
   "outputs": [
    {
     "name": "stdout",
     "output_type": "stream",
     "text": [
      "Requirement already satisfied: numpy in c:\\users\\acer\\anaconda3\\lib\\site-packages (1.21.5)\n",
      "Note: you may need to restart the kernel to use updated packages.\n"
     ]
    }
   ],
   "source": [
    "pip install numpy"
   ]
  },
  {
   "cell_type": "code",
   "execution_count": 2,
   "id": "de8b4bb2-788a-4580-ac95-1e1f200a6d7b",
   "metadata": {},
   "outputs": [
    {
     "name": "stdout",
     "output_type": "stream",
     "text": [
      "El tamaño en bytes del array de 1000 elementos de tipo booleano es: 1000\n"
     ]
    }
   ],
   "source": [
    "import numpy as np\n",
    "\n",
    "# Creamos un array de booleanos de 1000 elementos\n",
    "bool_array = np.zeros(1000, dtype=bool)\n",
    "\n",
    "# Obtenemos el tamaño en bytes del array\n",
    "bool_array_size = bool_array.nbytes\n",
    "\n",
    "print(\"El tamaño en bytes del array de 1000 elementos de tipo booleano es:\", bool_array_size)"
   ]
  },
  {
   "cell_type": "markdown",
   "id": "14802a46-81c7-40b0-a522-ddf24eef0440",
   "metadata": {},
   "source": [
    "### 2) Cree un array cuyos elementos sean los enteros pares en [1,100] y en orden decreciente. Muestre los 10 últimos por pantalla. "
   ]
  },
  {
   "cell_type": "code",
   "execution_count": 4,
   "id": "faff28b3-cafd-4ac2-ab71-72be0303f299",
   "metadata": {},
   "outputs": [
    {
     "name": "stdout",
     "output_type": "stream",
     "text": [
      "[20, 18, 16, 14, 12, 10, 8, 6, 4, 2]\n"
     ]
    }
   ],
   "source": [
    "array = [i for i in range(100, 0, -2)]\n",
    "print(array[-10:])"
   ]
  },
  {
   "cell_type": "markdown",
   "id": "f6285214-213b-4147-9809-12aef453885b",
   "metadata": {},
   "source": [
    "### 3) Dado el array  \n",
    "2 4 5 6 \n",
    "0\t3 7 4 \n",
    "8 8 5 2 \n",
    "1\t5 6 1 \n",
    "Seleccione con una instrucción el subarray de elementos  \n",
    "0 3 7 4 \n"
   ]
  },
  {
   "cell_type": "code",
   "execution_count": null,
   "id": "6f3cecd0-9825-4d42-8141-e0abcec60ab9",
   "metadata": {},
   "outputs": [],
   "source": [
    "subarray1 = [[0, 3, 7, 4]]"
   ]
  },
  {
   "cell_type": "markdown",
   "id": "a7b46b0c-25a2-40dd-b0aa-438fd4106af2",
   "metadata": {},
   "source": [
    "### Después, seleccione el subarray de elementos  \n",
    "2\t5 \n",
    "8 5 "
   ]
  },
  {
   "cell_type": "code",
   "execution_count": null,
   "id": "c724f00d-9a5b-4d6e-9bbf-7d2962b3f5cc",
   "metadata": {},
   "outputs": [],
   "source": [
    "subarray2 = [[2, 5], [8, 5]]"
   ]
  },
  {
   "cell_type": "markdown",
   "id": "e302a542-426b-4803-b849-b00ba3ec5b31",
   "metadata": {},
   "source": [
    "### 4) Dados los arrays a = [1, 4, 2, 7] y b = [1, 3, 2, 9], obtenga la media aritmética de la diferencia (a-b). "
   ]
  },
  {
   "cell_type": "code",
   "execution_count": 6,
   "id": "a096f8bb-ec05-42e7-a068-ec23f928922d",
   "metadata": {},
   "outputs": [
    {
     "name": "stdout",
     "output_type": "stream",
     "text": [
      "-0.25\n"
     ]
    }
   ],
   "source": [
    "import numpy as np\n",
    "\n",
    "a = np.array([1, 4, 2, 7])\n",
    "b = np.array([1, 3, 2, 9])\n",
    "\n",
    "diff = a - b\n",
    "mean_diff = np.mean(diff)\n",
    "\n",
    "print(mean_diff)\n"
   ]
  },
  {
   "cell_type": "markdown",
   "id": "b2586505-e6c0-4295-afa3-55d8270c0dce",
   "metadata": {},
   "source": [
    "### 5) Tengo valores de cordenadas (x, y) en las columnas \n",
    "del array\t \n",
    "\n",
    "1.33 4.5 \n",
    "30.0 10.7 \n",
    "70.2 0.5  \n",
    "Agregue a este array las coordenadas (37.1, -3.6). Muestre en pantalla las dimensiones del nuevo array. "
   ]
  },
  {
   "cell_type": "code",
   "execution_count": 7,
   "id": "386d1bb8-8b8d-4308-9e7b-d9737946c8a9",
   "metadata": {},
   "outputs": [
    {
     "name": "stdout",
     "output_type": "stream",
     "text": [
      "(4, 2)\n"
     ]
    }
   ],
   "source": [
    "import numpy as np\n",
    "\n",
    "\n",
    "arr = np.array([[1.33, 4.5],\n",
    "                [30.0, 10.7],\n",
    "                [70.2, 0.5]])\n",
    "\n",
    "\n",
    "coord = np.array([37.1, -3.6])\n",
    "\n",
    "\n",
    "arr = np.append(arr, [coord], axis=0)\n",
    "\n",
    "\n",
    "print(arr.shape)\n"
   ]
  },
  {
   "cell_type": "markdown",
   "id": "46735334-3888-47fd-a73a-d629aff958f0",
   "metadata": {},
   "source": [
    "### 6)Copie el array del ejercicio anterior. Traspóngalo (. Agregue ahora dos nuevos pares de coordenadas: (10.8, 3.0) y (35.8, 12.0). python"
   ]
  },
  {
   "cell_type": "code",
   "execution_count": 9,
   "id": "87a55e06-6b17-4bdb-a5a6-c85e7cb09851",
   "metadata": {},
   "outputs": [
    {
     "name": "stdout",
     "output_type": "stream",
     "text": [
      "[[ 2.3  1.2]\n",
      " [ 4.5  3.4]\n",
      " [ 6.7  5.6]\n",
      " [10.8 35.8]\n",
      " [ 3.  12. ]]\n"
     ]
    }
   ],
   "source": [
    "\n",
    "\n",
    "\n",
    "coordenadas = np.array([[2.3, 4.5, 6.7],\n",
    "                        [1.2, 3.4, 5.6]])\n",
    "\n",
    "\n",
    "coordenadas = np.hstack([coordenadas, np.array([[10.8, 3.0], [35.8, 12.0]])])\n",
    "\n",
    "\n",
    "coordenadas_transpuestas = np.transpose(coordenadas)\n",
    "\n",
    "\n",
    "print(coordenadas_transpuestas)\n"
   ]
  },
  {
   "cell_type": "code",
   "execution_count": null,
   "id": "b1ec5a2f-adf8-4c41-b274-21d6b377b0a8",
   "metadata": {},
   "outputs": [],
   "source": []
  }
 ],
 "metadata": {
  "kernelspec": {
   "display_name": "Python 3 (ipykernel)",
   "language": "python",
   "name": "python3"
  },
  "language_info": {
   "codemirror_mode": {
    "name": "ipython",
    "version": 3
   },
   "file_extension": ".py",
   "mimetype": "text/x-python",
   "name": "python",
   "nbconvert_exporter": "python",
   "pygments_lexer": "ipython3",
   "version": "3.9.13"
  }
 },
 "nbformat": 4,
 "nbformat_minor": 5
}
